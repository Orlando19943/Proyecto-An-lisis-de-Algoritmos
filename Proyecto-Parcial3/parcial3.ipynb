{
 "cells": [
  {
   "cell_type": "markdown",
   "metadata": {},
   "source": [
    "# Universidad del Valle de Guatemala\n",
    "\n",
    "### Análisis y Diseño de Algoritmos\n",
    "### Docente: Paulo\n",
    "### Semestre 1, 2021\n",
    "\n",
    "### Integrantes\n",
    "- Daniela Villamar #19086\n",
    "- Diana Zaray Corado #191025\n",
    "- Pablo Alejandro Méndez #19195\n",
    "- Orlando Osberto Cabrera #19943\n",
    "\n",
    "# Parcial 3\n",
    "**Instrucciones**: "
   ]
  },
  {
   "cell_type": "markdown",
   "metadata": {},
   "source": [
    "### Fuentes: \n",
    "#### - https://www.youtube.com/watch?v=IZHvQTx2bZ0\n",
    "#### - https://www.youtube.com/watch?v=CUAolXf8u-U"
   ]
  },
  {
   "cell_type": "markdown",
   "metadata": {},
   "source": [
    "## Definición de variables"
   ]
  },
  {
   "cell_type": "code",
   "execution_count": 96,
   "metadata": {},
   "outputs": [],
   "source": [
    "# Los items pueden ser agregados en cualquier orde, no importa si están ordenados de cualquier forma\n",
    "configuracion1 = {\n",
    "    \"mochila\": 6,\n",
    "    \"items\": ((2,3),(1,1),(3,4),(4,6))\n",
    "}\n",
    "configuracion2 = {\n",
    "    \"mochila\": 8,\n",
    "    \"items\": ((8,16), (1,2),(2,5),(4,6),(5,10),(7,13))\n",
    "}"
   ]
  },
  {
   "cell_type": "code",
   "execution_count": 125,
   "metadata": {},
   "outputs": [],
   "source": [
    "#TODO hacer que imprima los items de la solución optima\n",
    "\n",
    "def knapsack_dinamic(items, W):\n",
    "    # Primero definimos la matriz en donde se guardaran los resultados\n",
    "    # Algo importante a mencionar es que la fila y columna con indice 0, todos sus valores serán 0.\n",
    "    matrix = [[0 for _ in range(W +1)] for _ in range(len(items)+1)]\n",
    "    # Esta lista servirá para ir guardando los resultados de cada paso \n",
    "    fila = 1\n",
    "    # Si no se pasa ningún item, el valor optimo que se puede obtener es 0\n",
    "    if len (items) == 0:\n",
    "        return 0\n",
    "    for item in items:\n",
    "        for columna in range (len(matrix[0])):\n",
    "            # Aqui copio los resultados de la fila anterior hasta llegar al numero de la columna que es mayor o igual al peso del actual item\n",
    "            if columna < item[0]:                               \n",
    "                matrix[fila][columna] = matrix[fila-1][columna]\n",
    "            # Cuando ya se llega al numero de columna que es mayor o igual al peso actual del item, ya es posible verificar si se \n",
    "            # agrega el actual item o quedarse con una solución anterior\n",
    "            else:\n",
    "                # Aqui verifico si es mejor agregar el actual item solo o sumado con otro item o quedarse con la solución anterior usando la función max\n",
    "                # Aqui es donde se utilizan los 0´s de la fila y columna con indice 0\n",
    "                matrix[fila][columna] = max (matrix[fila-1][columna-item[0]]+item[1],matrix[fila-1][columna])\n",
    "                \n",
    "        fila += 1\n",
    "    return matrix"
   ]
  },
  {
   "cell_type": "code",
   "execution_count": 126,
   "metadata": {},
   "outputs": [
    {
     "data": {
      "text/plain": [
       "[[0, 0, 0, 0, 0, 0, 0, 0, 0],\n",
       " [0, 0, 0, 0, 0, 0, 0, 0, 16],\n",
       " [0, 2, 2, 2, 2, 2, 2, 2, 16],\n",
       " [0, 2, 5, 7, 7, 7, 7, 7, 16],\n",
       " [0, 2, 5, 7, 7, 8, 11, 13, 16],\n",
       " [0, 2, 5, 7, 7, 10, 12, 15, 17],\n",
       " [0, 2, 5, 7, 7, 10, 12, 15, 17]]"
      ]
     },
     "execution_count": 126,
     "metadata": {},
     "output_type": "execute_result"
    }
   ],
   "source": [
    "knapsack_dinamic(configuracion2[\"items\"], configuracion2[\"mochila\"])"
   ]
  },
  {
   "cell_type": "code",
   "execution_count": 127,
   "metadata": {},
   "outputs": [
    {
     "data": {
      "text/plain": [
       "[[0, 0, 0, 0, 0, 0, 0],\n",
       " [0, 0, 3, 3, 3, 3, 3],\n",
       " [0, 1, 3, 4, 4, 4, 4],\n",
       " [0, 1, 3, 4, 5, 7, 8],\n",
       " [0, 1, 3, 4, 6, 7, 9]]"
      ]
     },
     "execution_count": 127,
     "metadata": {},
     "output_type": "execute_result"
    }
   ],
   "source": [
    "knapsack_dinamic(configuracion1[\"items\"], configuracion1[\"mochila\"])"
   ]
  }
 ],
 "metadata": {
  "interpreter": {
   "hash": "32bfab94d0e154964121efc14e4842f873d3a16e908b9884ee822350db5e883a"
  },
  "kernelspec": {
   "display_name": "Python 3.9.6 32-bit",
   "language": "python",
   "name": "python3"
  },
  "language_info": {
   "codemirror_mode": {
    "name": "ipython",
    "version": 3
   },
   "file_extension": ".py",
   "mimetype": "text/x-python",
   "name": "python",
   "nbconvert_exporter": "python",
   "pygments_lexer": "ipython3",
   "version": "3.9.6"
  },
  "orig_nbformat": 4
 },
 "nbformat": 4,
 "nbformat_minor": 2
}
