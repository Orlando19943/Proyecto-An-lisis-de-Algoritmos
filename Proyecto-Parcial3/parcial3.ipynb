{
 "cells": [
  {
   "cell_type": "markdown",
   "source": [
    "# Universidad del Valle de Guatemala\n",
    "\n",
    "### Análisis y Diseño de Algoritmos\n",
    "Docente: Paulo\n",
    "Semestre 1, 2021\n",
    "\n",
    "### Integrantes\n",
    "- Daniela Villamar #19086\n",
    "- Diana Zaray Corado #191025\n",
    "- Pablo Alejandro Méndez #19195\n",
    "- Orlando Osberto Cabrera #19943\n",
    "\n",
    "# Parcial 3"
   ],
   "metadata": {
    "collapsed": false,
    "pycharm": {
     "name": "#%% md\n"
    }
   }
  },
  {
   "cell_type": "code",
   "execution_count": null,
   "outputs": [],
   "source": [
    "from dataclasses import dataclass\n",
    "from rich.table import Table\n",
    "from rich import print\n",
    "from rich.console import Console"
   ],
   "metadata": {
    "collapsed": false,
    "pycharm": {
     "name": "#%%\n"
    }
   }
  },
  {
   "cell_type": "markdown",
   "source": [
    "## Definición de variables"
   ],
   "metadata": {
    "collapsed": false,
    "pycharm": {
     "name": "#%% md\n"
    }
   }
  },
  {
   "cell_type": "code",
   "execution_count": null,
   "outputs": [],
   "source": [
    "console = Console()\n",
    "@dataclass\n",
    "class Item:\n",
    "    name: str\n",
    "    weight: int\n",
    "    value: int\n",
    "\n",
    "@dataclass\n",
    "class InitialConfiguration:\n",
    "    capacity: int\n",
    "    items: list[Item]\n",
    "\n",
    "@dataclass\n",
    "class Knapsack:\n",
    "    value: int\n",
    "    items: list[Item]\n",
    "\n",
    "    def add_item(self, item: Item) -> 'Knapsack':\n",
    "        return Knapsack(\n",
    "            self.value + item.value,\n",
    "            [*self.items, item],\n",
    "        )\n"
   ],
   "metadata": {
    "collapsed": false,
    "pycharm": {
     "name": "#%%\n"
    }
   }
  },
  {
   "cell_type": "markdown",
   "source": [
    "## Configuraciones de Prueba"
   ],
   "metadata": {
    "collapsed": false,
    "pycharm": {
     "name": "#%% md\n"
    }
   }
  },
  {
   "cell_type": "code",
   "execution_count": null,
   "outputs": [],
   "source": [
    "configuraciones = (\n",
    "    InitialConfiguration(\n",
    "        capacity=6,\n",
    "        items=[Item(\"A\", 2, 3), Item(\"B\", 1, 1), Item(\"C\", 3, 4), Item(\"D\", 4, 6)]\n",
    "    ),\n",
    "    InitialConfiguration(\n",
    "        capacity=8,\n",
    "        items=[Item(\"E\", 1, 2), Item(\"F\", 2, 5), Item(\"F\", 4, 6), Item(\"G\", 5, 10), Item(\"H\", 7, 13), Item(\"I\", 8, 16)]\n",
    "    ),\n",
    "    InitialConfiguration(\n",
    "        capacity=8,\n",
    "        items=[Item(\"J\", 2, 2)],\n",
    "    ),\n",
    "    InitialConfiguration(\n",
    "        capacity=8,\n",
    "        items=[Item(\"K\", 1, 2), Item(\"L\", 3, 4)],\n",
    "    ),\n",
    "    InitialConfiguration(\n",
    "        capacity=8,\n",
    "        items=[Item(\"M\", 1, 2)],\n",
    "    ),\n",
    "    InitialConfiguration(\n",
    "        capacity=7,\n",
    "        items=[Item(\"N\", 1, 1), Item(\"O\", 2, 6), Item(\"P\", 3, 10), Item(\"Q\", 5, 16)],\n",
    "    ),\n",
    "    InitialConfiguration(\n",
    "        capacity=7,\n",
    "        items=[Item(\"R\", 1, 1), Item(\"S\", 2, 6), Item(\"T\", 3, 10)],\n",
    "    ),\n",
    ")\n"
   ],
   "metadata": {
    "collapsed": false,
    "pycharm": {
     "name": "#%%\n"
    }
   }
  },
  {
   "cell_type": "markdown",
   "source": [
    "# Programación dinámica"
   ],
   "metadata": {
    "collapsed": false,
    "pycharm": {
     "name": "#%% md\n"
    }
   }
  },
  {
   "cell_type": "code",
   "execution_count": null,
   "outputs": [],
   "source": [
    "def knapsack_dynamic(items: list[Item], max_capacity: int) -> [Knapsack, list[list[Knapsack]]]:\n",
    "    \"\"\"\n",
    "    Knapsack Problem con programación dinámica.\n",
    "    Utiliza memoización usando una matriz de resultados calculados con anterioridad.\n",
    "\n",
    "    :param items: Items to consider in this backpack problem\n",
    "    :param max_capacity: The maximum capacity for the given backpack\n",
    "    :return: the best possible knapsack and the matrix\n",
    "    \"\"\"\n",
    "\n",
    "    if len(items) == 0:\n",
    "        return 0, [], []\n",
    "\n",
    "    knapsacks = [[Knapsack(0, []) for _ in range(max_capacity + 1)] for _ in range(len(items) + 1)]\n",
    "    sorted_items = sorted(items, key=lambda x: x.weight)\n",
    "\n",
    "    for index, item in enumerate(sorted_items, start=1):\n",
    "        for capacity in range(1, max_capacity+1):\n",
    "\n",
    "            # The best knapsack if we don't add the current item\n",
    "            old_knapsack = knapsacks[index - 1][capacity]\n",
    "\n",
    "            if item.weight > capacity:\n",
    "                knapsacks[index][capacity] = old_knapsack\n",
    "                continue\n",
    "\n",
    "            # The best possible knapsack if we add the current item\n",
    "            possible_best_knapsack = knapsacks[index - 1][capacity - item.weight].add_item(item)\n",
    "\n",
    "            if old_knapsack.value > possible_best_knapsack.value:\n",
    "                knapsacks[index][capacity] = old_knapsack\n",
    "                continue\n",
    "\n",
    "            knapsacks[index][capacity] = possible_best_knapsack\n",
    "\n",
    "    return knapsacks[-1][max_capacity], knapsacks\n"
   ],
   "metadata": {
    "collapsed": false,
    "pycharm": {
     "name": "#%%\n"
    }
   }
  },
  {
   "cell_type": "code",
   "execution_count": null,
   "outputs": [],
   "source": [
    "def print_result(matrix, items, capacity):\n",
    "    table = Table(title=\"Knapsack Dynamic Programming\")\n",
    "    table.add_column(\"Item \\\\ Capacity\", style=\"bold magenta\", justify=\"center\")\n",
    "\n",
    "    for i in range(capacity):\n",
    "        table.add_column(str(i + 1))\n",
    "\n",
    "    for i, item in enumerate(sorted(items, key=lambda x: x.weight), start=1):\n",
    "       table.add_row(item.name, *map(lambda k: str(k.value), matrix[i][1:]))\n",
    "\n",
    "    console.print(table)"
   ],
   "metadata": {
    "collapsed": false,
    "pycharm": {
     "name": "#%%\n"
    }
   }
  },
  {
   "cell_type": "markdown",
   "source": [
    "### Resultados"
   ],
   "metadata": {
    "collapsed": false,
    "pycharm": {
     "name": "#%% md\n"
    }
   }
  },
  {
   "cell_type": "code",
   "execution_count": null,
   "outputs": [],
   "source": [
    "i = 1\n",
    "best, matrix = knapsack_dynamic(items=configuraciones[i].items, max_capacity=configuraciones[i].capacity)\n",
    "\n",
    "console.print(f\"El mejor resultado es {list(map(lambda x: x.name, best.items))} con un valor de {best.value}.\")\n",
    "print_result(matrix, configuraciones[i].items, configuraciones[i].capacity)\n",
    "\n",
    "del best, matrix"
   ],
   "metadata": {
    "collapsed": false,
    "pycharm": {
     "name": "#%%\n"
    }
   }
  },
  {
   "cell_type": "markdown",
   "source": [
    "# Divide and Conquer"
   ],
   "metadata": {
    "collapsed": false,
    "pycharm": {
     "name": "#%% md\n"
    }
   }
  },
  {
   "cell_type": "code",
   "execution_count": null,
   "outputs": [],
   "source": [
    "def knapsack_divide_and_conquer(items: list[Item], max_weight: int, index=0) -> Knapsack:\n",
    "    # Caso base\n",
    "    if max_weight == 0 or index >= len(items):\n",
    "        return Knapsack(0, [])\n",
    "\n",
    "    item = items[index]\n",
    "\n",
    "    if item.weight > max_weight:\n",
    "        return knapsack_divide_and_conquer(items, max_weight, index + 1)\n",
    "\n",
    "    return max(\n",
    "        knapsack_divide_and_conquer(items, max_weight, index + 1),\n",
    "        knapsack_divide_and_conquer(items, max_weight - item.weight, index + 1).add_item(item),\n",
    "        key=lambda x: x.value\n",
    "    )\n"
   ],
   "metadata": {
    "collapsed": false,
    "pycharm": {
     "name": "#%%\n"
    }
   }
  },
  {
   "cell_type": "code",
   "execution_count": null,
   "outputs": [],
   "source": [
    "i = 1\n",
    "best = knapsack_divide_and_conquer(configuraciones[i].items, configuraciones[i].capacity)\n",
    "console.print(f\"El mejor resultado es {list(map(lambda x: x.name, best.items))} con un valor de {best.value}.\")"
   ],
   "metadata": {
    "collapsed": false,
    "pycharm": {
     "name": "#%%\n"
    }
   }
  },
  {
   "cell_type": "markdown",
   "source": [
    "### Fuentes: \n",
    "Divide y conquistar: \n",
    "- https://www.geeksforgeeks.org/0-1-knapsack-problem-dp-10/ \n",
    "\n",
    "Programación dinámica: \n",
    "- https://www.youtube.com/watch?v=IZHvQTx2bZ0\n",
    "- https://www.youtube.com/watch?v=CUAolXf8u-U"
   ],
   "metadata": {
    "collapsed": false,
    "pycharm": {
     "name": "#%% md\n"
    }
   }
  },
  {
   "cell_type": "code",
   "execution_count": 7,
   "metadata": {
    "pycharm": {
     "name": "#%%\n"
    }
   },
   "outputs": [],
   "source": [
    "def knapsack_divide_and_conquer(items: list[Item], max_weight: int, index=0) -> Knapsack:\n",
    "    # Caso base\n",
    "    if max_weight == 0 or index >= len(items):\n",
    "        return Knapsack(0, [])\n",
    "\n",
    "    item = items[index]\n",
    "\n",
    "    if item.weight > max_weight:\n",
    "        return knapsack_divide_and_conquer(items, max_weight, index + 1)\n",
    "\n",
    "    return max(\n",
    "        knapsack_divide_and_conquer(items, max_weight, index + 1),\n",
    "        knapsack_divide_and_conquer(items, max_weight - item.weight, index + 1).add_item(item),\n",
    "        key=lambda x: x.value\n",
    "    )\n"
   ]
  },
  {
   "cell_type": "code",
   "execution_count": 8,
   "metadata": {
    "pycharm": {
     "name": "#%%\n"
    }
   },
   "outputs": [
    {
     "data": {
      "text/html": [
       "<pre style=\"white-space:pre;overflow-x:auto;line-height:normal;font-family:Menlo,'DejaVu Sans Mono',consolas,'Courier New',monospace\">El mejor resultado es <span style=\"font-weight: bold\">[</span><span style=\"color: #008000; text-decoration-color: #008000\">'G'</span>, <span style=\"color: #008000; text-decoration-color: #008000\">'F'</span>, <span style=\"color: #008000; text-decoration-color: #008000\">'E'</span><span style=\"font-weight: bold\">]</span> con un valor de <span style=\"color: #008080; text-decoration-color: #008080; font-weight: bold\">17</span>.\n",
       "</pre>\n"
      ],
      "text/plain": [
       "El mejor resultado es \u001B[1m[\u001B[0m\u001B[32m'G'\u001B[0m, \u001B[32m'F'\u001B[0m, \u001B[32m'E'\u001B[0m\u001B[1m]\u001B[0m con un valor de \u001B[1;36m17\u001B[0m.\n"
      ]
     },
     "metadata": {},
     "output_type": "display_data"
    }
   ],
   "source": [
    "i = 1\n",
    "best = knapsack_divide_and_conquer(configuraciones[i].items, configuraciones[i].capacity)\n",
    "console.print(f\"El mejor resultado es {list(map(lambda x: x.name, best.items))} con un valor de {best.value}.\")"
   ]
  },
  {
   "cell_type": "markdown",
   "metadata": {},
   "source": [
    "### Fuentes: \n",
    "Divide y conquistar: \n",
    "- https://www.geeksforgeeks.org/0-1-knapsack-problem-dp-10/ \n",
    "\n",
    "Programación dinámica: \n",
    "- https://www.youtube.com/watch?v=IZHvQTx2bZ0\n",
    "- https://www.youtube.com/watch?v=CUAolXf8u-U"
   ]
  }
 ],
 "metadata": {
  "interpreter": {
   "hash": "32bfab94d0e154964121efc14e4842f873d3a16e908b9884ee822350db5e883a"
  },
  "kernelspec": {
   "display_name": "Python 3 (ipykernel)",
   "language": "python",
   "name": "python3"
  },
  "language_info": {
   "codemirror_mode": {
    "name": "ipython",
    "version": 3
   },
   "file_extension": ".py",
   "mimetype": "text/x-python",
   "name": "python",
   "nbconvert_exporter": "python",
   "pygments_lexer": "ipython3",
   "version": "3.10.4"
  }
 },
 "nbformat": 4,
 "nbformat_minor": 2
}