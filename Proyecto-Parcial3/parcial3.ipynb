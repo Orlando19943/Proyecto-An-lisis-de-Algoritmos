{
 "cells": [
  {
   "cell_type": "markdown",
   "metadata": {},
   "source": [
    "# Universidad del Valle de Guatemala\n",
    "\n",
    "### Análisis y Diseño de Algoritmos\n",
    "### Docente: Paulo\n",
    "### Semestre 1, 2021\n",
    "\n",
    "### Integrantes\n",
    "- Daniela Villamar #19086\n",
    "- Diana Zaray Corado #191025\n",
    "- Pablo Alejandro Méndez #19195\n",
    "- Orlando Osberto Cabrera #19943\n",
    "\n",
    "# Parcial 3\n",
    "**Instrucciones**: "
   ]
  },
  {
   "cell_type": "markdown",
   "metadata": {},
   "source": [
    "### Fuentes: \n",
    "#### - https://www.youtube.com/watch?v=IZHvQTx2bZ0\n",
    "#### - https://www.youtube.com/watch?v=CUAolXf8u-U"
   ]
  },
  {
   "cell_type": "markdown",
   "metadata": {},
   "source": [
    "## Definición de variables"
   ]
  },
  {
   "cell_type": "code",
   "execution_count": 171,
   "metadata": {},
   "outputs": [],
   "source": [
    "# Los items pueden ser agregados en cualquier orde, no importa si están ordenados de cualquier forma\n",
    "# items = ((Peso, Valor))\n",
    "configuracion1 = {\n",
    "    \"mochila\": 6,\n",
    "    \"items\": ((2,3),(1,1),(3,4),(4,6))\n",
    "}\n",
    "configuracion2 = {\n",
    "    \"mochila\": 8,\n",
    "    \"items\": ((1,2),(2,5),(4,6),(5,10),(7,13),(8,16))\n",
    "}"
   ]
  },
  {
   "cell_type": "code",
   "execution_count": 421,
   "metadata": {},
   "outputs": [],
   "source": [
    "# Items → Lista de los items que se tienen\n",
    "# W → El peso que aguanta la mochila\n",
    "# Retorna → La matriz que se usó para almacenar las operaciones de cada caso, el valor optimo que se obtuvo y la combinación de los items que dieron el resultado optimo\n",
    "def knapsack_dinamic(items, W):\n",
    "    # Primero definimos la matriz en donde se guardaran los resultados\n",
    "    # Algo importante a mencionar es que la fila y columna con indice 0, todos sus valores serán 0.\n",
    "    matrix = [[0 for _ in range(W +1)] for _ in range(len(items)+1)]\n",
    "    matrix_items = [[() for _ in range(W +1)] for _ in range(len(items)+1)]\n",
    "    # Si no se pasa ningún item, el valor optimo que se puede obtener es 0\n",
    "    if len (items) == 0:\n",
    "        return 0\n",
    "    for fila in range (1,len(items)+1):\n",
    "        for columna in range (len(matrix[0])):\n",
    "            # Aqui copio los resultados de la fila anterior hasta llegar al numero de la columna que es mayor o igual al peso del actual item\n",
    "            if columna < items[fila-1][0]:                               \n",
    "                matrix[fila][columna] = matrix[fila-1][columna]\n",
    "                matrix_items[fila][columna] = matrix_items[fila-1][columna]\n",
    "            # Cuando ya se llega al numero de columna que es mayor o igual al peso actual del item, ya es posible verificar si se \n",
    "            # agrega el actual item o quedarse con una solución anterior\n",
    "            else:\n",
    "                # Aqui verifico si es mejor agregar el actual item solo o sumado con otro item o quedarse con la solución anterior usando la función max\n",
    "                # Aqui es donde se utilizan los 0´s de la fila y columna con indice 0 \n",
    "                mayor = max (matrix[fila-1][columna-items[fila-1][0]]+items[fila-1][1],matrix[fila-1][columna])\n",
    "                matrix[fila][columna] = mayor\n",
    "                matrix_items[fila][columna] = fila\n",
    "                if mayor == matrix[fila-1][columna]:\n",
    "                    matrix_items[fila][columna] = (matrix_items[fila-1][columna])\n",
    "                else: \n",
    "                    matrix_items[fila][columna] = tuple(matrix_items[fila-1][columna-items[fila-1][0]]) + tuple(str(fila))\n",
    "    return matrix, matrix[len(items)][W], matrix_items[len(items)][W]"
   ]
  },
  {
   "cell_type": "code",
   "execution_count": 422,
   "metadata": {},
   "outputs": [
    {
     "name": "stdout",
     "output_type": "stream",
     "text": [
      "La combinación optima es cuando se usan los items ('1', '2', '4') y se obtiene un valor de 17\n",
      "Matriz con los resultados guardados: \n",
      "[0, 0, 0, 0, 0, 0, 0, 0, 0]\n",
      "[0, 2, 2, 2, 2, 2, 2, 2, 2]\n",
      "[0, 2, 5, 7, 7, 7, 7, 7, 7]\n",
      "[0, 2, 5, 7, 7, 8, 11, 13, 13]\n",
      "[0, 2, 5, 7, 7, 10, 12, 15, 17]\n",
      "[0, 2, 5, 7, 7, 10, 12, 15, 17]\n",
      "[0, 2, 5, 7, 7, 10, 12, 15, 17]\n"
     ]
    }
   ],
   "source": [
    "result = knapsack_dinamic(configuracion2[\"items\"], configuracion2[\"mochila\"])\n",
    "print(\"La combinación optima es cuando se usan los items {0} y se obtiene un valor de {1}\".format(result[2], result[1]))\n",
    "print(\"Matriz con los resultados guardados: \")\n",
    "for res in result[0]:\n",
    "    print(res)\n",
    "del result"
   ]
  }
 ],
 "metadata": {
  "interpreter": {
   "hash": "32bfab94d0e154964121efc14e4842f873d3a16e908b9884ee822350db5e883a"
  },
  "kernelspec": {
   "display_name": "Python 3.9.6 32-bit",
   "language": "python",
   "name": "python3"
  },
  "language_info": {
   "codemirror_mode": {
    "name": "ipython",
    "version": 3
   },
   "file_extension": ".py",
   "mimetype": "text/x-python",
   "name": "python",
   "nbconvert_exporter": "python",
   "pygments_lexer": "ipython3",
   "version": "3.9.6"
  },
  "orig_nbformat": 4
 },
 "nbformat": 4,
 "nbformat_minor": 2
}
