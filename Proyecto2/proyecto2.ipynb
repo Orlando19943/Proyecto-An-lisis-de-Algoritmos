{
 "cells": [
  {
   "cell_type": "markdown",
   "metadata": {},
   "source": [
    "# Universidad del Valle de Guatemala\n",
    "\n",
    "### Análisis y Diseño de Algoritmos\n",
    "\n",
    "### Docente: Paulo\n",
    "\n",
    "### Semestre 1, 2021\n",
    "\n",
    "### Daniela Villamar #19086\n",
    "\n",
    "### Diana Zaray Corado #191025\n",
    "\n",
    "### Pablo Alejandro Méndez #19195\n",
    "\n",
    "### Orlando Osberto Cabrera #19943\n",
    "\n",
    "# Proyecto 2\n",
    "\n",
    "**Instrucciones**: investigue sobre el algoritmo MTF y realice un programa en Python en el que se calculen \n",
    "los  costos  de  acceso  totales  del  algoritmo  MTF  (Move  to  Front)  sobre  las  siguientes  secuencias  de \n",
    "solicitudes: "
   ]
  },
  {
   "cell_type": "code",
   "execution_count": 1,
   "metadata": {},
   "outputs": [],
   "source": [
    "configuration = (0,1,2,3,4)"
   ]
  },
  {
   "cell_type": "markdown",
   "metadata": {},
   "source": [
    "### a) Calcular el costo de acceso utilizando el algoritmo MTF para \n",
    "#### a. Lista de configuración: 0, 1, 2, 3, 4 \n",
    "\n",
    "#### b. Secuencia de solicitudes: 0, 1, 2, 3, 4, 0, 1, 2, 3, 4, 0, 1, 2, 3, 4, 0, 1, 2, 3, 4 \n",
    "\n",
    "### Imprima la lista de configuración, la solicitud, su costo y la configuración de la lista aplicando MTF  por cada solicitud en la secuencia y, al final, imprima el costo total de los accesos. "
   ]
  },
  {
   "cell_type": "code",
   "execution_count": null,
   "metadata": {},
   "outputs": [],
   "source": [
    "sequence = [0,1,2,3,4,0,1,2,3,4,0,1,2,3,4,0,1,2,3,4]\n",
    "\n",
    "del sequence"
   ]
  },
  {
   "cell_type": "markdown",
   "metadata": {},
   "source": [
    "### b) Calcular el costo de acceso utilizando el algoritmo MTF para \n",
    "#### a. Lista de configuración: 0, 1, 2, 3, 4 \n",
    "\n",
    "#### b. Secuencia de solicitudes: 4, 3, 2, 1, 0, 1, 2, 3, 4, 3, 2, 1, 0, 1, 2, 3, 4 \n",
    "\n",
    "### Imprima la lista de configuración, la solicitud, su costo y la configuración de la lista aplicando MTF por cada solicitud en la secuencia y, al final, imprima el costo total de los accesos. "
   ]
  },
  {
   "cell_type": "code",
   "execution_count": 2,
   "metadata": {},
   "outputs": [],
   "source": [
    "sequence = [4, 3, 2, 1, 0, 1, 2, 3, 4, 3, 2, 1, 0, 1, 2, 3, 4 ]\n",
    "\n",
    "del sequence"
   ]
  },
  {
   "cell_type": "markdown",
   "metadata": {},
   "source": [
    "### c) ¿Para  qué  secuencia  de  20  solicitudes  se  obtiene  el  mínimo  costo  total  de  acceso  utilizando  el algoritmo MTF para la configuración 0, 1, 2, 3, 4? ¿Cuál sería ese costo total de acceso? "
   ]
  },
  {
   "cell_type": "markdown",
   "metadata": {},
   "source": [
    "### d) ¿Para qué secuencia de 20 solicitudes se obtiene el peor de los casos utilizando el algoritmo MTF para la configuración 0, 1, 2, 3, 4? ¿Cuál sería ese costo total de acceso?  "
   ]
  },
  {
   "cell_type": "markdown",
   "metadata": {},
   "source": [
    "### e) Calcular el costo de acceso utilizando el algoritmo MTF para \n",
    "#### a. Lista de configuración: 0, 1, 2, 3, 4 \n",
    "\n",
    "#### b. Secuencia de solicitudes: 2, 2, 2, 2, 2, 2, 2, 2, 2, 2, 2, 2, 2, 2, 2, 2, 2, 2, 2, 2 \n",
    "\n",
    "### Imprima la lista de configuración, la solicitud, su costo y la configuración de la lista aplicando MTF por cada secuencia de solicitudes y al final el costo total de acceso, Si se hiciera la secuencia de solicitudes 3, 3, 3, 3, 3, 3, 3, 3, 3, 3, 3, 3, 3, 3, 3, 3, 3, 3, 3, 3 , ¿cuál es el costo total de acceso? ¿Se observa algún patrón cuando hay una repetición de 20 elementos en la secuencia? "
   ]
  },
  {
   "cell_type": "code",
   "execution_count": 3,
   "metadata": {},
   "outputs": [],
   "source": [
    "sequence = [2, 2, 2, 2, 2, 2, 2, 2, 2, 2, 2, 2, 2, 2, 2, 2, 2, 2, 2, 2]\n",
    "\n",
    "del sequence"
   ]
  },
  {
   "cell_type": "markdown",
   "metadata": {},
   "source": [
    "### f) Se plantea un algoritmo mejorado de MTF: IMTF por Rakesh Mohanty y Sasmita Tripathy, basado en el concepto de mirada hacia adelante (look-ahead), en el cual, después de acceder al elemento de la posición 𝑖 en la lista de configuración, se mueve el elemento al frente de la lista si y sólo si este  elemento  está  en  los  próximos  𝑖−1  elementos  del  elemento  accedido  en  la  solicitud  de secuencia.  En  caso  contrario,  el  elemento  accedido  no  se  mueve  al  frente  de  la  lista  de configuración. Imprima la lista de configuración, la solicitud, su costo y la configuración de la lista aplicando IMTF por cada solicitud en la secuencia. Al final, imprima el costo total de acceso usando IMTF para el mejor y el peor de los casos de MTF. "
   ]
  }
 ],
 "metadata": {
  "interpreter": {
   "hash": "61d646d785e0291a1f5acfc36a2e7a6293e7bb5404e00c48841c63328e8b824a"
  },
  "kernelspec": {
   "display_name": "Python 3 (ipykernel)",
   "language": "python",
   "name": "python3"
  },
  "language_info": {
   "codemirror_mode": {
    "name": "ipython",
    "version": 3
   },
   "file_extension": ".py",
   "mimetype": "text/x-python",
   "name": "python",
   "nbconvert_exporter": "python",
   "pygments_lexer": "ipython3",
   "version": "3.10.1"
  }
 },
 "nbformat": 4,
 "nbformat_minor": 2
}
