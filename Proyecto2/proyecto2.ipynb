{
 "cells": [
  {
   "cell_type": "markdown",
   "metadata": {},
   "source": [
    "# Universidad del Valle de Guatemala\n",
    "\n",
    "### Análisis y Diseño de Algoritmos\n",
    "### Docente: Paulo\n",
    "### Semestre 1, 2021\n",
    "\n",
    "### Integrantes\n",
    "- Daniela Villamar #19086\n",
    "- Diana Zaray Corado #191025\n",
    "- Pablo Alejandro Méndez #19195\n",
    "- Orlando Osberto Cabrera #19943\n",
    "\n",
    "# Proyecto 2\n",
    "**Instrucciones**: Investigue sobre el algoritmo MTF y realice un programa en Python en el que se calculen\n",
    "los costos de acceso totales del algoritmo MTF (*Move to Front*) sobre las siguientes secuencias de\n",
    "solicitudes: "
   ]
  },
  {
   "cell_type": "code",
   "execution_count": 2,
   "metadata": {
    "pycharm": {
     "name": "#%%\n"
    }
   },
   "outputs": [],
   "source": [
    "from prettytable import PrettyTable"
   ]
  },
  {
   "cell_type": "code",
   "execution_count": 40,
   "metadata": {},
   "outputs": [],
   "source": [
    "# Algoritmo MTF\n",
    "def MTF(conf: list, seq: list):\n",
    "    table = PrettyTable((\"Configuración inicial\", \"Solicitud\", \"Costo\", \"Configuración Resultante\"))\n",
    "\n",
    "    nodes = conf.copy()\n",
    "    total = 0\n",
    "    for value in seq:\n",
    "        i = -1\n",
    "\n",
    "        while i < len(nodes):\n",
    "            total += 1\n",
    "            i += 1\n",
    "\n",
    "            if value != nodes[i]:\n",
    "                continue\n",
    "\n",
    "            nodes_copy = nodes.copy()\n",
    "            nodes.insert(0, nodes.pop(i))\n",
    "            table.add_row([nodes_copy, value, i+1, nodes.copy()])\n",
    "            break\n",
    "    print(table)\n",
    "    print (\"Costo total: \", total)"
   ]
  },
  {
   "cell_type": "markdown",
   "metadata": {},
   "source": [
    "### a) Calcular el costo de acceso utilizando el algoritmo MTF para \n",
    "#### a. Lista de configuración: 0, 1, 2, 3, 4"
   ]
  },
  {
   "cell_type": "code",
   "execution_count": 61,
   "metadata": {
    "pycharm": {
     "name": "#%%\n"
    }
   },
   "outputs": [],
   "source": [
    "configuration = [0, 1, 2, 3, 4]"
   ]
  },
  {
   "cell_type": "markdown",
   "metadata": {
    "pycharm": {
     "name": "#%% md\n"
    }
   },
   "source": [
    "#### b. Secuencia de solicitudes: 0, 1, 2, 3, 4, 0, 1, 2, 3, 4, 0, 1, 2, 3, 4, 0, 1, 2, 3, 4"
   ]
  },
  {
   "cell_type": "code",
   "execution_count": 62,
   "metadata": {},
   "outputs": [
    {
     "name": "stdout",
     "output_type": "stream",
     "text": [
      "+-----------------------+-----------+-------+--------------------------+\n",
      "| Configuración inicial | Solicitud | Costo | Configuración Resultante |\n",
      "+-----------------------+-----------+-------+--------------------------+\n",
      "|    [0, 1, 2, 3, 4]    |     0     |   1   |     [0, 1, 2, 3, 4]      |\n",
      "|    [0, 1, 2, 3, 4]    |     1     |   2   |     [1, 0, 2, 3, 4]      |\n",
      "|    [1, 0, 2, 3, 4]    |     2     |   3   |     [2, 1, 0, 3, 4]      |\n",
      "|    [2, 1, 0, 3, 4]    |     3     |   4   |     [3, 2, 1, 0, 4]      |\n",
      "|    [3, 2, 1, 0, 4]    |     4     |   5   |     [4, 3, 2, 1, 0]      |\n",
      "|    [4, 3, 2, 1, 0]    |     0     |   5   |     [0, 4, 3, 2, 1]      |\n",
      "|    [0, 4, 3, 2, 1]    |     1     |   5   |     [1, 0, 4, 3, 2]      |\n",
      "|    [1, 0, 4, 3, 2]    |     2     |   5   |     [2, 1, 0, 4, 3]      |\n",
      "|    [2, 1, 0, 4, 3]    |     3     |   5   |     [3, 2, 1, 0, 4]      |\n",
      "|    [3, 2, 1, 0, 4]    |     4     |   5   |     [4, 3, 2, 1, 0]      |\n",
      "|    [4, 3, 2, 1, 0]    |     0     |   5   |     [0, 4, 3, 2, 1]      |\n",
      "|    [0, 4, 3, 2, 1]    |     1     |   5   |     [1, 0, 4, 3, 2]      |\n",
      "|    [1, 0, 4, 3, 2]    |     2     |   5   |     [2, 1, 0, 4, 3]      |\n",
      "|    [2, 1, 0, 4, 3]    |     3     |   5   |     [3, 2, 1, 0, 4]      |\n",
      "|    [3, 2, 1, 0, 4]    |     4     |   5   |     [4, 3, 2, 1, 0]      |\n",
      "|    [4, 3, 2, 1, 0]    |     0     |   5   |     [0, 4, 3, 2, 1]      |\n",
      "|    [0, 4, 3, 2, 1]    |     1     |   5   |     [1, 0, 4, 3, 2]      |\n",
      "|    [1, 0, 4, 3, 2]    |     2     |   5   |     [2, 1, 0, 4, 3]      |\n",
      "|    [2, 1, 0, 4, 3]    |     3     |   5   |     [3, 2, 1, 0, 4]      |\n",
      "|    [3, 2, 1, 0, 4]    |     4     |   5   |     [4, 3, 2, 1, 0]      |\n",
      "+-----------------------+-----------+-------+--------------------------+\n",
      "Costo total:  90\n"
     ]
    }
   ],
   "source": [
    "sequence = [0, 1, 2, 3, 4, 0, 1, 2, 3, 4, 0, 1, 2, 3, 4, 0, 1, 2, 3, 4]\n",
    "\n",
    "MTF(configuration, sequence)\n",
    "\n",
    "del sequence"
   ]
  },
  {
   "cell_type": "markdown",
   "metadata": {},
   "source": [
    "### b) Calcular el costo de acceso utilizando el algoritmo MTF para \n",
    "#### a. Lista de configuración: 0, 1, 2, 3, 4"
   ]
  },
  {
   "cell_type": "code",
   "execution_count": 59,
   "metadata": {
    "pycharm": {
     "name": "#%%\n"
    }
   },
   "outputs": [],
   "source": [
    "configuration = [0, 1, 2, 3, 4]"
   ]
  },
  {
   "cell_type": "markdown",
   "metadata": {},
   "source": [
    "#### b. Secuencia de solicitudes: 4, 3, 2, 1, 0, 1, 2, 3, 4, 3, 2, 1, 0, 1, 2, 3, 4"
   ]
  },
  {
   "cell_type": "code",
   "execution_count": 60,
   "metadata": {},
   "outputs": [
    {
     "name": "stdout",
     "output_type": "stream",
     "text": [
      "+-----------------------+-----------+-------+--------------------------+\n",
      "| Configuración inicial | Solicitud | Costo | Configuración Resultante |\n",
      "+-----------------------+-----------+-------+--------------------------+\n",
      "|    [0, 1, 2, 3, 4]    |     4     |   5   |     [4, 0, 1, 2, 3]      |\n",
      "|    [4, 0, 1, 2, 3]    |     3     |   5   |     [3, 4, 0, 1, 2]      |\n",
      "|    [3, 4, 0, 1, 2]    |     2     |   5   |     [2, 3, 4, 0, 1]      |\n",
      "|    [2, 3, 4, 0, 1]    |     1     |   5   |     [1, 2, 3, 4, 0]      |\n",
      "|    [1, 2, 3, 4, 0]    |     0     |   5   |     [0, 1, 2, 3, 4]      |\n",
      "|    [0, 1, 2, 3, 4]    |     1     |   2   |     [1, 0, 2, 3, 4]      |\n",
      "|    [1, 0, 2, 3, 4]    |     2     |   3   |     [2, 1, 0, 3, 4]      |\n",
      "|    [2, 1, 0, 3, 4]    |     3     |   4   |     [3, 2, 1, 0, 4]      |\n",
      "|    [3, 2, 1, 0, 4]    |     4     |   5   |     [4, 3, 2, 1, 0]      |\n",
      "|    [4, 3, 2, 1, 0]    |     3     |   2   |     [3, 4, 2, 1, 0]      |\n",
      "|    [3, 4, 2, 1, 0]    |     2     |   3   |     [2, 3, 4, 1, 0]      |\n",
      "|    [2, 3, 4, 1, 0]    |     1     |   4   |     [1, 2, 3, 4, 0]      |\n",
      "|    [1, 2, 3, 4, 0]    |     0     |   5   |     [0, 1, 2, 3, 4]      |\n",
      "|    [0, 1, 2, 3, 4]    |     1     |   2   |     [1, 0, 2, 3, 4]      |\n",
      "|    [1, 0, 2, 3, 4]    |     2     |   3   |     [2, 1, 0, 3, 4]      |\n",
      "|    [2, 1, 0, 3, 4]    |     3     |   4   |     [3, 2, 1, 0, 4]      |\n",
      "|    [3, 2, 1, 0, 4]    |     4     |   5   |     [4, 3, 2, 1, 0]      |\n",
      "+-----------------------+-----------+-------+--------------------------+\n",
      "Costo total:  67\n"
     ]
    }
   ],
   "source": [
    "sequence = [4, 3, 2, 1, 0, 1, 2, 3, 4, 3, 2, 1, 0, 1, 2, 3, 4]\n",
    "MTF(configuration, sequence)\n",
    "\n",
    "del sequence"
   ]
  },
  {
   "cell_type": "markdown",
   "metadata": {},
   "source": [
    "### c) ¿Para  qué  secuencia  de  20  solicitudes  se  obtiene  el  mínimo  costo  total  de  acceso  utilizando  el algoritmo MTF para la configuración 0, 1, 2, 3, 4? ¿Cuál sería ese costo total de acceso? "
   ]
  },
  {
   "cell_type": "markdown",
   "metadata": {},
   "source": [
    "El mejor de los casos se da cuando la secuencia de solicitudes pide únicamente el primer elemento de la lista de configuraciones. El costo mínimo que se obtendría sería equivalente al número de solicitudes que se realizaron. Para este caso, el costo mínimo que se obtendría sería 20, usando una secuencia de 20 ceros, como se observa a continuación."
   ]
  },
  {
   "cell_type": "code",
   "execution_count": 34,
   "metadata": {},
   "outputs": [
    {
     "name": "stdout",
     "output_type": "stream",
     "text": [
      "+-----------------------+-----------+-------+--------------------------+\n",
      "| Configuración inicial | Solicitud | Costo | Configuración Resultante |\n",
      "+-----------------------+-----------+-------+--------------------------+\n",
      "|    [0, 1, 2, 3, 4]    |     0     |   1   |     [0, 1, 2, 3, 4]      |\n",
      "|    [0, 1, 2, 3, 4]    |     0     |   1   |     [0, 1, 2, 3, 4]      |\n",
      "|    [0, 1, 2, 3, 4]    |     0     |   1   |     [0, 1, 2, 3, 4]      |\n",
      "|    [0, 1, 2, 3, 4]    |     0     |   1   |     [0, 1, 2, 3, 4]      |\n",
      "|    [0, 1, 2, 3, 4]    |     0     |   1   |     [0, 1, 2, 3, 4]      |\n",
      "|    [0, 1, 2, 3, 4]    |     0     |   1   |     [0, 1, 2, 3, 4]      |\n",
      "|    [0, 1, 2, 3, 4]    |     0     |   1   |     [0, 1, 2, 3, 4]      |\n",
      "|    [0, 1, 2, 3, 4]    |     0     |   1   |     [0, 1, 2, 3, 4]      |\n",
      "|    [0, 1, 2, 3, 4]    |     0     |   1   |     [0, 1, 2, 3, 4]      |\n",
      "|    [0, 1, 2, 3, 4]    |     0     |   1   |     [0, 1, 2, 3, 4]      |\n",
      "|    [0, 1, 2, 3, 4]    |     0     |   1   |     [0, 1, 2, 3, 4]      |\n",
      "|    [0, 1, 2, 3, 4]    |     0     |   1   |     [0, 1, 2, 3, 4]      |\n",
      "|    [0, 1, 2, 3, 4]    |     0     |   1   |     [0, 1, 2, 3, 4]      |\n",
      "|    [0, 1, 2, 3, 4]    |     0     |   1   |     [0, 1, 2, 3, 4]      |\n",
      "|    [0, 1, 2, 3, 4]    |     0     |   1   |     [0, 1, 2, 3, 4]      |\n",
      "|    [0, 1, 2, 3, 4]    |     0     |   1   |     [0, 1, 2, 3, 4]      |\n",
      "|    [0, 1, 2, 3, 4]    |     0     |   1   |     [0, 1, 2, 3, 4]      |\n",
      "|    [0, 1, 2, 3, 4]    |     0     |   1   |     [0, 1, 2, 3, 4]      |\n",
      "|    [0, 1, 2, 3, 4]    |     0     |   1   |     [0, 1, 2, 3, 4]      |\n",
      "|    [0, 1, 2, 3, 4]    |     0     |   1   |     [0, 1, 2, 3, 4]      |\n",
      "+-----------------------+-----------+-------+--------------------------+\n",
      "Costo total:  20\n"
     ]
    }
   ],
   "source": [
    "sequence = [0, 0, 0, 0, 0, 0, 0, 0, 0, 0, 0, 0, 0, 0, 0, 0, 0, 0, 0, 0,]\n",
    "MTF(configuration, sequence)\n",
    "\n",
    "del sequence"
   ]
  },
  {
   "cell_type": "markdown",
   "metadata": {},
   "source": [
    "### d) ¿Para qué secuencia de 20 solicitudes se obtiene el peor de los casos utilizando el algoritmo MTF para la configuración 0, 1, 2, 3, 4? ¿Cuál sería ese costo total de acceso?"
   ]
  },
  {
   "cell_type": "markdown",
   "metadata": {},
   "source": [
    "El peor de los casos se da cuando el último número de la lista de configuración es corrido hacia el inicio. El costo que se obtendría sería igual a k*n, donde k es el número de solicitudes que se realizan y n el tamaño de la lista de configuración. Usando los datos que se dan en el inciso, se obtendría un costo de 100, como se observa a continuación."
   ]
  },
  {
   "cell_type": "code",
   "execution_count": 35,
   "metadata": {},
   "outputs": [
    {
     "name": "stdout",
     "output_type": "stream",
     "text": [
      "+-----------------------+-----------+-------+--------------------------+\n",
      "| Configuración inicial | Solicitud | Costo | Configuración Resultante |\n",
      "+-----------------------+-----------+-------+--------------------------+\n",
      "|    [0, 1, 2, 3, 4]    |     4     |   5   |     [4, 0, 1, 2, 3]      |\n",
      "|    [4, 0, 1, 2, 3]    |     3     |   5   |     [3, 4, 0, 1, 2]      |\n",
      "|    [3, 4, 0, 1, 2]    |     2     |   5   |     [2, 3, 4, 0, 1]      |\n",
      "|    [2, 3, 4, 0, 1]    |     1     |   5   |     [1, 2, 3, 4, 0]      |\n",
      "|    [1, 2, 3, 4, 0]    |     0     |   5   |     [0, 1, 2, 3, 4]      |\n",
      "|    [0, 1, 2, 3, 4]    |     4     |   5   |     [4, 0, 1, 2, 3]      |\n",
      "|    [4, 0, 1, 2, 3]    |     3     |   5   |     [3, 4, 0, 1, 2]      |\n",
      "|    [3, 4, 0, 1, 2]    |     2     |   5   |     [2, 3, 4, 0, 1]      |\n",
      "|    [2, 3, 4, 0, 1]    |     1     |   5   |     [1, 2, 3, 4, 0]      |\n",
      "|    [1, 2, 3, 4, 0]    |     0     |   5   |     [0, 1, 2, 3, 4]      |\n",
      "|    [0, 1, 2, 3, 4]    |     4     |   5   |     [4, 0, 1, 2, 3]      |\n",
      "|    [4, 0, 1, 2, 3]    |     3     |   5   |     [3, 4, 0, 1, 2]      |\n",
      "|    [3, 4, 0, 1, 2]    |     2     |   5   |     [2, 3, 4, 0, 1]      |\n",
      "|    [2, 3, 4, 0, 1]    |     1     |   5   |     [1, 2, 3, 4, 0]      |\n",
      "|    [1, 2, 3, 4, 0]    |     0     |   5   |     [0, 1, 2, 3, 4]      |\n",
      "|    [0, 1, 2, 3, 4]    |     4     |   5   |     [4, 0, 1, 2, 3]      |\n",
      "|    [4, 0, 1, 2, 3]    |     3     |   5   |     [3, 4, 0, 1, 2]      |\n",
      "|    [3, 4, 0, 1, 2]    |     2     |   5   |     [2, 3, 4, 0, 1]      |\n",
      "|    [2, 3, 4, 0, 1]    |     1     |   5   |     [1, 2, 3, 4, 0]      |\n",
      "|    [1, 2, 3, 4, 0]    |     0     |   5   |     [0, 1, 2, 3, 4]      |\n",
      "+-----------------------+-----------+-------+--------------------------+\n",
      "Costo total:  100\n"
     ]
    }
   ],
   "source": [
    "sequence = [4, 3, 2, 1, 0, 4, 3, 2, 1, 0, 4, 3, 2, 1, 0, 4, 3, 2, 1, 0]\n",
    "MTF(configuration, sequence)\n",
    "\n",
    "del sequence"
   ]
  },
  {
   "cell_type": "markdown",
   "metadata": {},
   "source": [
    "### e) Calcular el costo de acceso utilizando el algoritmo MTF para \n",
    "#### a. Lista de configuración: 0, 1, 2, 3, 4"
   ]
  },
  {
   "cell_type": "code",
   "execution_count": 36,
   "metadata": {
    "pycharm": {
     "name": "#%%\n"
    }
   },
   "outputs": [],
   "source": [
    "configuration = [0, 1, 2, 3, 4]"
   ]
  },
  {
   "cell_type": "markdown",
   "metadata": {},
   "source": [
    "#### b. Secuencia de solicitudes: 2, 2, 2, 2, 2, 2, 2, 2, 2, 2, 2, 2, 2, 2, 2, 2, 2, 2, 2, 2"
   ]
  },
  {
   "cell_type": "code",
   "execution_count": 37,
   "metadata": {},
   "outputs": [
    {
     "name": "stdout",
     "output_type": "stream",
     "text": [
      "+-----------------------+-----------+-------+--------------------------+\n",
      "| Configuración inicial | Solicitud | Costo | Configuración Resultante |\n",
      "+-----------------------+-----------+-------+--------------------------+\n",
      "|    [0, 1, 2, 3, 4]    |     2     |   3   |     [2, 0, 1, 3, 4]      |\n",
      "|    [2, 0, 1, 3, 4]    |     2     |   1   |     [2, 0, 1, 3, 4]      |\n",
      "|    [2, 0, 1, 3, 4]    |     2     |   1   |     [2, 0, 1, 3, 4]      |\n",
      "|    [2, 0, 1, 3, 4]    |     2     |   1   |     [2, 0, 1, 3, 4]      |\n",
      "|    [2, 0, 1, 3, 4]    |     2     |   1   |     [2, 0, 1, 3, 4]      |\n",
      "|    [2, 0, 1, 3, 4]    |     2     |   1   |     [2, 0, 1, 3, 4]      |\n",
      "|    [2, 0, 1, 3, 4]    |     2     |   1   |     [2, 0, 1, 3, 4]      |\n",
      "|    [2, 0, 1, 3, 4]    |     2     |   1   |     [2, 0, 1, 3, 4]      |\n",
      "|    [2, 0, 1, 3, 4]    |     2     |   1   |     [2, 0, 1, 3, 4]      |\n",
      "|    [2, 0, 1, 3, 4]    |     2     |   1   |     [2, 0, 1, 3, 4]      |\n",
      "|    [2, 0, 1, 3, 4]    |     2     |   1   |     [2, 0, 1, 3, 4]      |\n",
      "|    [2, 0, 1, 3, 4]    |     2     |   1   |     [2, 0, 1, 3, 4]      |\n",
      "|    [2, 0, 1, 3, 4]    |     2     |   1   |     [2, 0, 1, 3, 4]      |\n",
      "|    [2, 0, 1, 3, 4]    |     2     |   1   |     [2, 0, 1, 3, 4]      |\n",
      "|    [2, 0, 1, 3, 4]    |     2     |   1   |     [2, 0, 1, 3, 4]      |\n",
      "|    [2, 0, 1, 3, 4]    |     2     |   1   |     [2, 0, 1, 3, 4]      |\n",
      "|    [2, 0, 1, 3, 4]    |     2     |   1   |     [2, 0, 1, 3, 4]      |\n",
      "|    [2, 0, 1, 3, 4]    |     2     |   1   |     [2, 0, 1, 3, 4]      |\n",
      "|    [2, 0, 1, 3, 4]    |     2     |   1   |     [2, 0, 1, 3, 4]      |\n",
      "|    [2, 0, 1, 3, 4]    |     2     |   1   |     [2, 0, 1, 3, 4]      |\n",
      "+-----------------------+-----------+-------+--------------------------+\n",
      "Costo total:  22\n"
     ]
    }
   ],
   "source": [
    "sequence = [2, 2, 2, 2, 2, 2, 2, 2, 2, 2, 2, 2, 2, 2, 2, 2, 2, 2, 2, 2]\n",
    "MTF(configuration, sequence)\n",
    "\n",
    "del sequence"
   ]
  },
  {
   "cell_type": "markdown",
   "metadata": {},
   "source": [
    "Si se hiciera la secuencia de solicitudes 3, 3, 3, 3, 3, 3, 3, 3, 3, 3, 3, 3, 3, 3, 3, 3, 3, 3, 3, 3 , ¿cuál es el costo\n",
    "total de acceso? ¿Se observa algún patrón cuando hay una repetición de 20 elementos en la secuencia?"
   ]
  },
  {
   "cell_type": "code",
   "execution_count": 15,
   "metadata": {},
   "outputs": [
    {
     "name": "stdout",
     "output_type": "stream",
     "text": [
      "+-----------------------+-----------+-------+--------------------------+\n",
      "| Configuración inicial | Solicitud | Costo | Configuración Resultante |\n",
      "+-----------------------+-----------+-------+--------------------------+\n",
      "|    [0, 1, 2, 3, 4]    |     3     |   4   |     [3, 0, 1, 2, 4]      |\n",
      "|    [3, 0, 1, 2, 4]    |     3     |   1   |     [3, 0, 1, 2, 4]      |\n",
      "|    [3, 0, 1, 2, 4]    |     3     |   1   |     [3, 0, 1, 2, 4]      |\n",
      "|    [3, 0, 1, 2, 4]    |     3     |   1   |     [3, 0, 1, 2, 4]      |\n",
      "|    [3, 0, 1, 2, 4]    |     3     |   1   |     [3, 0, 1, 2, 4]      |\n",
      "|    [3, 0, 1, 2, 4]    |     3     |   1   |     [3, 0, 1, 2, 4]      |\n",
      "|    [3, 0, 1, 2, 4]    |     3     |   1   |     [3, 0, 1, 2, 4]      |\n",
      "|    [3, 0, 1, 2, 4]    |     3     |   1   |     [3, 0, 1, 2, 4]      |\n",
      "|    [3, 0, 1, 2, 4]    |     3     |   1   |     [3, 0, 1, 2, 4]      |\n",
      "|    [3, 0, 1, 2, 4]    |     3     |   1   |     [3, 0, 1, 2, 4]      |\n",
      "|    [3, 0, 1, 2, 4]    |     3     |   1   |     [3, 0, 1, 2, 4]      |\n",
      "|    [3, 0, 1, 2, 4]    |     3     |   1   |     [3, 0, 1, 2, 4]      |\n",
      "|    [3, 0, 1, 2, 4]    |     3     |   1   |     [3, 0, 1, 2, 4]      |\n",
      "|    [3, 0, 1, 2, 4]    |     3     |   1   |     [3, 0, 1, 2, 4]      |\n",
      "|    [3, 0, 1, 2, 4]    |     3     |   1   |     [3, 0, 1, 2, 4]      |\n",
      "|    [3, 0, 1, 2, 4]    |     3     |   1   |     [3, 0, 1, 2, 4]      |\n",
      "|    [3, 0, 1, 2, 4]    |     3     |   1   |     [3, 0, 1, 2, 4]      |\n",
      "|    [3, 0, 1, 2, 4]    |     3     |   1   |     [3, 0, 1, 2, 4]      |\n",
      "|    [3, 0, 1, 2, 4]    |     3     |   1   |     [3, 0, 1, 2, 4]      |\n",
      "|    [3, 0, 1, 2, 4]    |     3     |   1   |     [3, 0, 1, 2, 4]      |\n",
      "+-----------------------+-----------+-------+--------------------------+\n",
      "Costo total:  23\n"
     ]
    }
   ],
   "source": [
    "sequence = [3, 3, 3, 3, 3, 3, 3, 3, 3, 3, 3, 3, 3, 3, 3, 3, 3, 3, 3, 3]\n",
    "MTF(configuration, sequence)"
   ]
  },
  {
   "cell_type": "markdown",
   "metadata": {},
   "source": [
    "Sí existe un patrón para ambos ejemplos, este patrón consiste en que el costo de todas las operaciones es siempre 1, a excepción de la primera operación. Esto se debe a que en la primera operación se busca el elemento en la posición inicial en la que se encuentra y ya que lo encuentra lo coloca en la primera posición. Luego como las siguientes solicitudes es buscar exactamente el mismmo elemento, el costo siempre será 1 debido a que el elemento ya se encuentra en la primera posición."
   ]
  },
  {
   "cell_type": "markdown",
   "metadata": {},
   "source": [
    "### f) Se plantea un algoritmo mejorado de MTF: IMTF por Rakesh Mohanty y Sasmita Tripathy, basado en el concepto de mirada hacia adelante (look-ahead), en el cual, después de acceder al elemento de la posición i en la lista de configuración, se mueve el elemento al frente de la lista si y sólo si este elemento está en los próximos i−1 elementos del elemento accedido en la solicitud de secuencia. En caso contrario, el elemento accedido no se mueve al frente de la lista de configuración. Imprima la lista de configuración, la solicitud, su costo y la configuración de la lista aplicando IMTF por cada solicitud en la secuencia. Al final, imprima el costo total de acceso usando IMTF para el mejor y el peor de los casos de MTF."
   ]
  },
  {
   "cell_type": "code",
   "execution_count": 80,
   "metadata": {},
   "outputs": [],
   "source": [
    "# Algoritmo IMTF\n",
    "def IMTF(conf: list, seq: list):\n",
    "    nodes = conf.copy()\n",
    "    total = 0\n",
    "    nodes_copy = nodes.copy()\n",
    "    table = PrettyTable((\"Configuración inicial\", \"Solicitud\", \"Costo\", \"Configuración Resultante\"))\n",
    "\n",
    "    for index, value in enumerate(seq):\n",
    "        i = -1\n",
    "\n",
    "        while i < len(nodes):\n",
    "            total += 1\n",
    "            i += 1\n",
    "            if value == nodes[i]:\n",
    "                if value in seq[index+1:index+1+i]:\n",
    "                    nodes_copy = nodes.copy()\n",
    "                    nodes.insert(0, nodes.pop(i))\n",
    "                table.add_row([nodes_copy, value, i+1, nodes.copy()])\n",
    "                break\n",
    "            i += 1\n",
    "    print(table)\n",
    "    print (\"Costo total: \", total)"
   ]
  },
  {
   "cell_type": "code",
   "execution_count": 74,
   "metadata": {},
   "outputs": [
    {
     "name": "stdout",
     "output_type": "stream",
     "text": [
      "+-----------------------+-----------+-------+--------------------------+\n",
      "| Configuración inicial | Solicitud | Costo | Configuración Resultante |\n",
      "+-----------------------+-----------+-------+--------------------------+\n",
      "|    [0, 1, 2, 3, 4]    |     0     |   1   |     [0, 1, 2, 3, 4]      |\n",
      "|    [0, 1, 2, 3, 4]    |     0     |   1   |     [0, 1, 2, 3, 4]      |\n",
      "|    [0, 1, 2, 3, 4]    |     0     |   1   |     [0, 1, 2, 3, 4]      |\n",
      "|    [0, 1, 2, 3, 4]    |     0     |   1   |     [0, 1, 2, 3, 4]      |\n",
      "|    [0, 1, 2, 3, 4]    |     0     |   1   |     [0, 1, 2, 3, 4]      |\n",
      "|    [0, 1, 2, 3, 4]    |     0     |   1   |     [0, 1, 2, 3, 4]      |\n",
      "|    [0, 1, 2, 3, 4]    |     0     |   1   |     [0, 1, 2, 3, 4]      |\n",
      "|    [0, 1, 2, 3, 4]    |     0     |   1   |     [0, 1, 2, 3, 4]      |\n",
      "|    [0, 1, 2, 3, 4]    |     0     |   1   |     [0, 1, 2, 3, 4]      |\n",
      "|    [0, 1, 2, 3, 4]    |     0     |   1   |     [0, 1, 2, 3, 4]      |\n",
      "|    [0, 1, 2, 3, 4]    |     0     |   1   |     [0, 1, 2, 3, 4]      |\n",
      "|    [0, 1, 2, 3, 4]    |     0     |   1   |     [0, 1, 2, 3, 4]      |\n",
      "|    [0, 1, 2, 3, 4]    |     0     |   1   |     [0, 1, 2, 3, 4]      |\n",
      "|    [0, 1, 2, 3, 4]    |     0     |   1   |     [0, 1, 2, 3, 4]      |\n",
      "|    [0, 1, 2, 3, 4]    |     0     |   1   |     [0, 1, 2, 3, 4]      |\n",
      "|    [0, 1, 2, 3, 4]    |     0     |   1   |     [0, 1, 2, 3, 4]      |\n",
      "|    [0, 1, 2, 3, 4]    |     0     |   1   |     [0, 1, 2, 3, 4]      |\n",
      "|    [0, 1, 2, 3, 4]    |     0     |   1   |     [0, 1, 2, 3, 4]      |\n",
      "|    [0, 1, 2, 3, 4]    |     0     |   1   |     [0, 1, 2, 3, 4]      |\n",
      "|    [0, 1, 2, 3, 4]    |     0     |   1   |     [0, 1, 2, 3, 4]      |\n",
      "+-----------------------+-----------+-------+--------------------------+\n",
      "Costo total:  20\n"
     ]
    }
   ],
   "source": [
    "best_case = [0, 0, 0, 0, 0, 0, 0, 0, 0, 0, 0, 0, 0, 0, 0, 0, 0, 0, 0, 0]\n",
    "IMTF(configuration, best_case)\n",
    "\n",
    "del best_case"
   ]
  },
  {
   "cell_type": "code",
   "execution_count": 87,
   "metadata": {},
   "outputs": [
    {
     "name": "stdout",
     "output_type": "stream",
     "text": [
      "+-----------------------+-----------+-------+--------------------------+\n",
      "| Configuración inicial | Solicitud | Costo | Configuración Resultante |\n",
      "+-----------------------+-----------+-------+--------------------------+\n",
      "|    [0, 1, 2, 3, 4]    |     4     |   5   |     [0, 1, 2, 3, 4]      |\n",
      "|    [0, 1, 2, 3, 4]    |     2     |   3   |     [0, 1, 2, 3, 4]      |\n",
      "|    [0, 1, 2, 3, 4]    |     0     |   1   |     [0, 1, 2, 3, 4]      |\n",
      "|    [0, 1, 2, 3, 4]    |     4     |   5   |     [0, 1, 2, 3, 4]      |\n",
      "+-----------------------+-----------+-------+--------------------------+\n",
      "Costo total:  15\n"
     ]
    }
   ],
   "source": [
    "worst_case = [4, 3, 2, 1, 0, 4, 3, 2, 1, 0, 4, 3, 2, 1, 0, 4, 3, 2, 1, 0]\n",
    "IMTF(configuration, worst_case)\n",
    "\n",
    "del worst_case"
   ]
  }
 ],
 "metadata": {
  "interpreter": {
   "hash": "61d646d785e0291a1f5acfc36a2e7a6293e7bb5404e00c48841c63328e8b824a"
  },
  "kernelspec": {
   "display_name": "Python 3 (ipykernel)",
   "language": "python",
   "name": "python3"
  },
  "language_info": {
   "codemirror_mode": {
    "name": "ipython",
    "version": 3
   },
   "file_extension": ".py",
   "mimetype": "text/x-python",
   "name": "python",
   "nbconvert_exporter": "python",
   "pygments_lexer": "ipython3",
   "version": "3.10.0"
  }
 },
 "nbformat": 4,
 "nbformat_minor": 2
}